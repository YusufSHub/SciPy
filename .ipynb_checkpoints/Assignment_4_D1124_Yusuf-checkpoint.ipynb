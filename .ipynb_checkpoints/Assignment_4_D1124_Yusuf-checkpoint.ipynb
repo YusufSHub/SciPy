{
 "cells": [
  {
   "cell_type": "markdown",
   "metadata": {
    "colab_type": "text",
    "id": "view-in-github"
   },
   "source": [
    "<a href=\"https://colab.research.google.com/github/YusufSHub/SciPy/blob/main/Assignment_4_D1124_Yusuf.ipynb\" target=\"_parent\"><img src=\"https://colab.research.google.com/assets/colab-badge.svg\" alt=\"Open In Colab\"/></a>"
   ]
  },
  {
   "cell_type": "code",
   "execution_count": null,
   "metadata": {
    "id": "MC6bqt-CWy8W"
   },
   "outputs": [],
   "source": [
    "import numpy as np\n",
    "import pandas as pd \n",
    "from scipy import stats\n",
    "import seaborn as sns\n",
    "import matplotlib.pyplot as plt"
   ]
  },
  {
   "cell_type": "markdown",
   "metadata": {
    "id": "HY3_q2WwW3lp"
   },
   "source": [
    "# 1)A salesperson has found that the probability of a sale on a single contact is approximately .3. If the salesperson contacts 10 prospects, what is the approximate probability of making at least one sale? (Wackerly, Ex.3.135)"
   ]
  },
  {
   "cell_type": "code",
   "execution_count": null,
   "metadata": {
    "colab": {
     "base_uri": "https://localhost:8080/"
    },
    "id": "y37u_dfhXeGa",
    "outputId": "643b908c-0d9b-4287-8f91-065d2d6cbe7b"
   },
   "outputs": [
    {
     "data": {
      "text/plain": [
       "0.9524474920745943"
      ]
     },
     "execution_count": 11,
     "metadata": {},
     "output_type": "execute_result"
    }
   ],
   "source": [
    "n =100 \n",
    "p = 0.03 \n",
    "x = 0\n",
    "1 - stats.binom.cdf(x,n,p)"
   ]
  },
  {
   "cell_type": "markdown",
   "metadata": {
    "id": "3u73ACCzb_GS"
   },
   "source": [
    "# 1) Ten coins are tossed simultaneously. Find the probability of getting\n",
    " (i) at least seven heads\n",
    " (ii) exactly seven heads\n",
    " (iii)at most seven heads"
   ]
  },
  {
   "cell_type": "code",
   "execution_count": null,
   "metadata": {
    "id": "Q396Gr7xcDo3"
   },
   "outputs": [],
   "source": [
    "n = 10  \n",
    "p 0.5\n",
    "x = 7"
   ]
  },
  {
   "cell_type": "code",
   "execution_count": null,
   "metadata": {
    "colab": {
     "base_uri": "https://localhost:8080/"
    },
    "id": "rMj7kRSfchUU",
    "outputId": "982bb99f-abe2-40fe-eb4b-ce51ff446c3e"
   },
   "outputs": [
    {
     "data": {
      "text/plain": [
       "0.11718750000000014"
      ]
     },
     "execution_count": 12,
     "metadata": {},
     "output_type": "execute_result"
    }
   ],
   "source": [
    "stats.binom.pmf(7, 10, 0.5)  # exactly seven heads"
   ]
  },
  {
   "cell_type": "code",
   "execution_count": null,
   "metadata": {
    "colab": {
     "base_uri": "https://localhost:8080/"
    },
    "id": "EB-AhtGOcuD2",
    "outputId": "b5a54b6b-6899-400c-fd5a-582daef45aa2"
   },
   "outputs": [
    {
     "data": {
      "text/plain": [
       "5.0"
      ]
     },
     "execution_count": 13,
     "metadata": {},
     "output_type": "execute_result"
    }
   ],
   "source": [
    "stats.binom.mean(10, 0.5)"
   ]
  },
  {
   "cell_type": "code",
   "execution_count": null,
   "metadata": {
    "colab": {
     "base_uri": "https://localhost:8080/"
    },
    "id": "h34XvPIEc9WN",
    "outputId": "bc8ebe42-580c-46f4-f8fe-9c32416be0ef"
   },
   "outputs": [
    {
     "data": {
      "text/plain": [
       "0.171875"
      ]
     },
     "execution_count": 14,
     "metadata": {},
     "output_type": "execute_result"
    }
   ],
   "source": [
    "1 - stats.binom.cdf(6, 10, 0.5) # at least seven heads"
   ]
  },
  {
   "cell_type": "code",
   "execution_count": null,
   "metadata": {
    "colab": {
     "base_uri": "https://localhost:8080/"
    },
    "id": "3lRyMaPJeqx6",
    "outputId": "16d8c458-1a37-458c-b93d-c1ab6d688de2"
   },
   "outputs": [
    {
     "data": {
      "text/plain": [
       "0.9453125"
      ]
     },
     "execution_count": 24,
     "metadata": {},
     "output_type": "execute_result"
    }
   ],
   "source": [
    "stats.binom.cdf(7,10,0.5) # at most seven heads"
   ]
  },
  {
   "cell_type": "code",
   "execution_count": null,
   "metadata": {
    "colab": {
     "base_uri": "https://localhost:8080/"
    },
    "id": "uLL8r5x-fBu0",
    "outputId": "a7af3427-688d-49ef-b639-a55bf084be0e"
   },
   "outputs": [
    {
     "data": {
      "text/plain": [
       "0.9453125"
      ]
     },
     "execution_count": 26,
     "metadata": {},
     "output_type": "execute_result"
    }
   ],
   "source": [
    "1 - stats.binom.pmf(8,10,0.5) - stats.binom.pmf(9, 10,0.5) - stats.binom.pmf(10,10,0.5) # at most 2nd way"
   ]
  },
  {
   "cell_type": "code",
   "execution_count": null,
   "metadata": {
    "id": "0jOcz_FhfNjT"
   },
   "outputs": [],
   "source": []
  },
  {
   "cell_type": "code",
   "execution_count": null,
   "metadata": {
    "id": "LzI5LI1FfO9d"
   },
   "outputs": [],
   "source": []
  },
  {
   "cell_type": "markdown",
   "metadata": {
    "id": "WNO6lBlVfQOE"
   },
   "source": [
    "# 2) The cycle time for trucks hauling concrete to a highway construction site is uniformly distributed over the interval 50 to 70 minutes. What is the probability that the cycle time exceeds 65 minutes  if it is known that the cycle time exceeds 55 minutes? (Wackerly, Ex.4.51)"
   ]
  },
  {
   "cell_type": "code",
   "execution_count": null,
   "metadata": {
    "id": "emrWNirMftzV"
   },
   "outputs": [],
   "source": [
    "#IDK"
   ]
  },
  {
   "cell_type": "markdown",
   "metadata": {
    "id": "3IIOvzM6j5Oi"
   },
   "source": [
    "# 3) The width of bolts of fabric is normally distributed with mean 950 mm (millimeters) and standard deviation 10 mm.\n",
    "\n",
    "\n",
    "* What is the probability that a randomly chosen bolt has a width of between 947 and 958mm?\n",
    "* What is the appropriate value for C such that a randomly chosen bolt has a width less than C with probability .8531? (Wackerly, Ex.4.73)\n",
    "\n",
    "\n"
   ]
  },
  {
   "cell_type": "code",
   "execution_count": null,
   "metadata": {
    "colab": {
     "base_uri": "https://localhost:8080/"
    },
    "id": "uofYebEtkGRD",
    "outputId": "bb728eaf-5d6d-4514-ce3d-f232aa90e3a8"
   },
   "outputs": [
    {
     "data": {
      "text/plain": [
       "0.406056023605556"
      ]
     },
     "execution_count": 37,
     "metadata": {},
     "output_type": "execute_result"
    }
   ],
   "source": [
    "mu = 950 # mean\n",
    "sigma = 10 # std\n",
    "x1 = 947 \n",
    "x2 = 950\n",
    "stats.norm.cdf(958, 950, 10) - stats.norm.cdf(947, 950, 10)"
   ]
  },
  {
   "cell_type": "markdown",
   "metadata": {
    "id": "zWW7737cSGlf"
   },
   "source": [
    " **For P = 0.8531 z value is 1.05. When I multiply it by std i get 1.05*10 = 10.5 \n",
    "Then,  I sum up it with mu value which is 950\n",
    "Answer = 960.5 mm**"
   ]
  },
  {
   "cell_type": "code",
   "execution_count": null,
   "metadata": {
    "colab": {
     "base_uri": "https://localhost:8080/"
    },
    "id": "EFqNxKknQ5SN",
    "outputId": "866ef7a2-bb4e-4649-b59a-f850f9d91c2b"
   },
   "outputs": [
    {
     "data": {
      "text/plain": [
       "960.4982190962642"
      ]
     },
     "execution_count": 51,
     "metadata": {},
     "output_type": "execute_result"
    }
   ],
   "source": [
    "stats.norm.ppf(0.8531, loc=950, scale=10)"
   ]
  },
  {
   "cell_type": "markdown",
   "metadata": {
    "id": "koDnf4qHONQO"
   },
   "source": [
    "# 4) Suppose scores on exams in statistics are normally distributed with an unknown population mean and a population standard deviation of 3 points. A random sample of 36 scores is taken and gives a sample mean (sample mean score) of 68. Find a confidence interval estimate for the population mean exam score (the mean score on all exams). Find a 90% confidence interval for the true (population) mean of statistics exam scores."
   ]
  },
  {
   "cell_type": "code",
   "execution_count": null,
   "metadata": {
    "colab": {
     "base_uri": "https://localhost:8080/"
    },
    "id": "FZbkfyWk31zx",
    "outputId": "3f378b67-39c8-493b-b36b-0a27f973503a"
   },
   "outputs": [
    {
     "data": {
      "text/plain": [
       "(67.15521377301812, 68.84478622698188)"
      ]
     },
     "execution_count": 22,
     "metadata": {},
     "output_type": "execute_result"
    }
   ],
   "source": [
    "n = 36\n",
    "mu = 68\n",
    "s = 3 / 6\n",
    "\n",
    "z = stats.t.ppf((1+0.90)/2, n-1)\n",
    "\n",
    "h = s*z\n",
    "\n",
    "CI = (mu-h, mu+h)\n",
    "CI"
   ]
  },
  {
   "cell_type": "code",
   "execution_count": null,
   "metadata": {
    "colab": {
     "base_uri": "https://localhost:8080/"
    },
    "id": "_ImVA71xEu4v",
    "outputId": "79b3ac17-6e95-489a-fa96-2260c596c29a"
   },
   "outputs": [
    {
     "data": {
      "text/plain": [
       "(67.15521377301812, 68.84478622698188)"
      ]
     },
     "execution_count": 30,
     "metadata": {},
     "output_type": "execute_result"
    }
   ],
   "source": [
    "\n",
    "lower_cutoff = stats.t.ppf(0.050, n - 1, loc = mu, scale = s)  \n",
    "upper_cutoff = stats.t.ppf(0.950, n - 1, loc = mu, scale = s) \n",
    "lower_cutoff, upper_cutoff"
   ]
  },
  {
   "cell_type": "code",
   "execution_count": null,
   "metadata": {
    "colab": {
     "base_uri": "https://localhost:8080/"
    },
    "id": "0uzdBTwD31sf",
    "outputId": "5927a1b3-d1b8-49f0-e861-954ebca8ffb5"
   },
   "outputs": [
    {
     "data": {
      "text/plain": [
       "0.8447862269818854"
      ]
     },
     "execution_count": 16,
     "metadata": {},
     "output_type": "execute_result"
    }
   ],
   "source": [
    "h"
   ]
  },
  {
   "cell_type": "markdown",
   "metadata": {
    "id": "fUis4nEF3pwO"
   },
   "source": [
    "# 5)  What is the normal body temperature for healthy humans? A random sample of 130 healthy human body temperatures provided by Allen Shoemaker7 yielded 98.25 degrees and standard deviation 0.73 degrees. Give a 99% confidence interval for the average body temperature of healthy people."
   ]
  },
  {
   "cell_type": "code",
   "execution_count": null,
   "metadata": {
    "colab": {
     "base_uri": "https://localhost:8080/"
    },
    "id": "qB3poK9VCj_X",
    "outputId": "d1100f3b-7490-4328-c5c0-97db8f45f8d8"
   },
   "outputs": [
    {
     "data": {
      "text/plain": [
       "(98.08260738705933, 98.41739261294067)"
      ]
     },
     "execution_count": 17,
     "metadata": {},
     "output_type": "execute_result"
    }
   ],
   "source": [
    "n = 130\n",
    "mu = 98.25\n",
    "s = 0.73 / np.sqrt(130)\n",
    "\n",
    "z = stats.t.ppf((1+0.99)/2, n-1)\n",
    "\n",
    "h = s*z\n",
    "\n",
    "CI = (mu-h, mu+h)\n",
    "CI"
   ]
  }
 ],
 "metadata": {
  "colab": {
   "authorship_tag": "ABX9TyNYNtnXS/sc4DUlYaTfI34t",
   "collapsed_sections": [
    "3u73ACCzb_GS",
    "3IIOvzM6j5Oi",
    "koDnf4qHONQO",
    "fUis4nEF3pwO"
   ],
   "include_colab_link": true,
   "name": "Assignment 4 D1124-Yusuf.ipynb",
   "provenance": []
  },
  "kernelspec": {
   "display_name": "Python 3",
   "language": "python",
   "name": "python3"
  },
  "language_info": {
   "codemirror_mode": {
    "name": "ipython",
    "version": 3
   },
   "file_extension": ".py",
   "mimetype": "text/x-python",
   "name": "python",
   "nbconvert_exporter": "python",
   "pygments_lexer": "ipython3",
   "version": "3.8.8"
  }
 },
 "nbformat": 4,
 "nbformat_minor": 1
}
