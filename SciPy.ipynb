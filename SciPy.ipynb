{
  "nbformat": 4,
  "nbformat_minor": 0,
  "metadata": {
    "colab": {
      "name": "SciPy.ipynb",
      "provenance": [],
      "authorship_tag": "ABX9TyNH8XmZ0tePQhMrgmwqpUzF",
      "include_colab_link": true
    },
    "kernelspec": {
      "name": "python3",
      "display_name": "Python 3"
    },
    "language_info": {
      "name": "python"
    }
  },
  "cells": [
    {
      "cell_type": "markdown",
      "metadata": {
        "id": "view-in-github",
        "colab_type": "text"
      },
      "source": [
        "<a href=\"https://colab.research.google.com/github/YusufSHub/SciPy/blob/main/SciPy.ipynb\" target=\"_parent\"><img src=\"https://colab.research.google.com/assets/colab-badge.svg\" alt=\"Open In Colab\"/></a>"
      ]
    },
    {
      "cell_type": "code",
      "execution_count": 1,
      "metadata": {
        "colab": {
          "base_uri": "https://localhost:8080/"
        },
        "id": "qJ0YeKCZrjKy",
        "outputId": "882d779a-f8d7-4e3d-ac6f-bbb33c3759bd"
      },
      "outputs": [
        {
          "output_type": "execute_result",
          "data": {
            "text/plain": [
              "array([3, 7, 5, 4, 2, 2, 2, 6, 4, 5])"
            ]
          },
          "metadata": {},
          "execution_count": 1
        }
      ],
      "source": [
        "from scipy import stats\n",
        "binomDist = stats.binom(n=10, p=0.4)\n",
        "binomDist.rvs(size=10, random_state=42)"
      ]
    },
    {
      "cell_type": "code",
      "source": [
        "binomDist = stats.binom(n=10, p=0.4)\n",
        "binomDist.pmf(k=3)"
      ],
      "metadata": {
        "colab": {
          "base_uri": "https://localhost:8080/"
        },
        "id": "MDx6f4ZXr3b9",
        "outputId": "dd0e4122-a6f4-4ef6-e9f4-59844cec977f"
      },
      "execution_count": 4,
      "outputs": [
        {
          "output_type": "execute_result",
          "data": {
            "text/plain": [
              "0.21499084800000012"
            ]
          },
          "metadata": {},
          "execution_count": 4
        }
      ]
    },
    {
      "cell_type": "code",
      "source": [
        "binomDist = stats.binom(n=10, p=0.4)\n",
        "binomDist.pmf(k=[1,2,3])"
      ],
      "metadata": {
        "colab": {
          "base_uri": "https://localhost:8080/"
        },
        "id": "2SuN7HNDr6Jp",
        "outputId": "4e57adfb-815f-4a8e-fadf-08db76d15cc1"
      },
      "execution_count": 5,
      "outputs": [
        {
          "output_type": "execute_result",
          "data": {
            "text/plain": [
              "array([0.04031078, 0.12093235, 0.21499085])"
            ]
          },
          "metadata": {},
          "execution_count": 5
        }
      ]
    },
    {
      "cell_type": "code",
      "source": [
        "binomDist = stats.binom(n=10, p=0.4)\n",
        "binomDist.cdf(3)"
      ],
      "metadata": {
        "colab": {
          "base_uri": "https://localhost:8080/"
        },
        "id": "WJgHvukGsCBU",
        "outputId": "980ed089-a74a-40f8-fb6e-c2c4cb22543a"
      },
      "execution_count": 6,
      "outputs": [
        {
          "output_type": "execute_result",
          "data": {
            "text/plain": [
              "0.3822806016000001"
            ]
          },
          "metadata": {},
          "execution_count": 6
        }
      ]
    },
    {
      "cell_type": "code",
      "source": [
        "binomDist = stats.binom(n=10, p=0.4)\n",
        "binomDist.ppf(0.3822806)"
      ],
      "metadata": {
        "colab": {
          "base_uri": "https://localhost:8080/"
        },
        "id": "5Yo2ey2SsF-n",
        "outputId": "77b79b8f-79d6-46a9-d0e6-dc01f7425a7b"
      },
      "execution_count": 7,
      "outputs": [
        {
          "output_type": "execute_result",
          "data": {
            "text/plain": [
              "3.0"
            ]
          },
          "metadata": {},
          "execution_count": 7
        }
      ]
    },
    {
      "cell_type": "code",
      "source": [
        "binomDist = stats.binom(n=10, p=0.4)\n",
        "binomDist.stats(moments='mv')       #Mean(‘m’), variance(‘v’), skew(‘s’), and/or kurtosis(‘k’)"
      ],
      "metadata": {
        "colab": {
          "base_uri": "https://localhost:8080/"
        },
        "id": "WqDHXudvsIn9",
        "outputId": "b4eb65b7-4b84-4bd1-fa99-c037f42b83b9"
      },
      "execution_count": 8,
      "outputs": [
        {
          "output_type": "execute_result",
          "data": {
            "text/plain": [
              "(array(4.), array(2.4))"
            ]
          },
          "metadata": {},
          "execution_count": 8
        }
      ]
    },
    {
      "cell_type": "code",
      "source": [
        "from scipy import stats\n",
        "poissonDist = stats.poisson(mu=4)\n",
        "poissonDist.rvs(size=10, random_state=42)"
      ],
      "metadata": {
        "colab": {
          "base_uri": "https://localhost:8080/"
        },
        "id": "oAr0vdMQtFgq",
        "outputId": "f2bd4e80-e0d4-4b41-f659-f0f57e594d5b"
      },
      "execution_count": 9,
      "outputs": [
        {
          "output_type": "execute_result",
          "data": {
            "text/plain": [
              "array([5, 4, 4, 4, 2, 5, 2, 5, 3, 5])"
            ]
          },
          "metadata": {},
          "execution_count": 9
        }
      ]
    },
    {
      "cell_type": "code",
      "source": [
        "poissonDist = stats.poisson(mu=4)\n",
        "poissonDist.pmf(k=3)"
      ],
      "metadata": {
        "colab": {
          "base_uri": "https://localhost:8080/"
        },
        "id": "zfYdZnHOtHnv",
        "outputId": "0d64b15e-aa98-4cbd-b79f-efc53efd0629"
      },
      "execution_count": 10,
      "outputs": [
        {
          "output_type": "execute_result",
          "data": {
            "text/plain": [
              "0.19536681481316454"
            ]
          },
          "metadata": {},
          "execution_count": 10
        }
      ]
    },
    {
      "cell_type": "code",
      "source": [
        "poissonDist = stats.poisson(mu=4)\n",
        "poissonDist.pmf(k=[1,2,3,4,5,6,7,8])"
      ],
      "metadata": {
        "colab": {
          "base_uri": "https://localhost:8080/"
        },
        "id": "Lq63S3I7tLkz",
        "outputId": "5fb03a6e-bdbc-4de2-f44f-64ed7ea69083"
      },
      "execution_count": 11,
      "outputs": [
        {
          "output_type": "execute_result",
          "data": {
            "text/plain": [
              "array([0.07326256, 0.14652511, 0.19536681, 0.19536681, 0.15629345,\n",
              "       0.10419563, 0.05954036, 0.02977018])"
            ]
          },
          "metadata": {},
          "execution_count": 11
        }
      ]
    },
    {
      "cell_type": "code",
      "source": [
        "poissonDist = stats.poisson(mu=4)\n",
        "poissonDist.cdf(x=3)"
      ],
      "metadata": {
        "colab": {
          "base_uri": "https://localhost:8080/"
        },
        "id": "gxbnl-3QtOj4",
        "outputId": "6ff3d8a0-6890-486a-b308-a91a47452919"
      },
      "execution_count": 12,
      "outputs": [
        {
          "output_type": "execute_result",
          "data": {
            "text/plain": [
              "0.43347012036670896"
            ]
          },
          "metadata": {},
          "execution_count": 12
        }
      ]
    },
    {
      "cell_type": "code",
      "source": [
        "poissonDist = stats.poisson(mu=4)\n",
        "poissonDist.ppf(q=0.43347)"
      ],
      "metadata": {
        "colab": {
          "base_uri": "https://localhost:8080/"
        },
        "id": "7h_lJOSWtQRs",
        "outputId": "d9be085f-ba09-4935-ea87-43af1644f929"
      },
      "execution_count": 13,
      "outputs": [
        {
          "output_type": "execute_result",
          "data": {
            "text/plain": [
              "3.0"
            ]
          },
          "metadata": {},
          "execution_count": 13
        }
      ]
    },
    {
      "cell_type": "code",
      "source": [
        "poissonDist = stats.poisson(mu=4)\n",
        "poissonDist.stats(moments='mvsk') #Mean(‘m’), variance(‘v’), skew(‘s’), and/or kurtosis(‘k’)"
      ],
      "metadata": {
        "colab": {
          "base_uri": "https://localhost:8080/"
        },
        "id": "SUnFp6lttSDI",
        "outputId": "7f85c1b4-7955-4adb-d1cb-256d4a264ca4"
      },
      "execution_count": 14,
      "outputs": [
        {
          "output_type": "execute_result",
          "data": {
            "text/plain": [
              "(array(4.), array(4.), array(0.5), array(0.25))"
            ]
          },
          "metadata": {},
          "execution_count": 14
        }
      ]
    },
    {
      "cell_type": "code",
      "source": [
        "from scipy import stats\n",
        "stats.norm.rvs(size=10, random_state=42)"
      ],
      "metadata": {
        "colab": {
          "base_uri": "https://localhost:8080/"
        },
        "id": "q3lXHyKO0zvA",
        "outputId": "a0945925-5694-45f3-e415-d05fd447ced1"
      },
      "execution_count": 15,
      "outputs": [
        {
          "output_type": "execute_result",
          "data": {
            "text/plain": [
              "array([ 0.49671415, -0.1382643 ,  0.64768854,  1.52302986, -0.23415337,\n",
              "       -0.23413696,  1.57921282,  0.76743473, -0.46947439,  0.54256004])"
            ]
          },
          "metadata": {},
          "execution_count": 15
        }
      ]
    },
    {
      "cell_type": "code",
      "source": [
        "normDist = stats.norm(loc=50, scale=10)\n",
        "normDist.rvs(size=10, random_state=42)"
      ],
      "metadata": {
        "colab": {
          "base_uri": "https://localhost:8080/"
        },
        "id": "8CsS1IwJ02LB",
        "outputId": "1fd1a77c-0bff-40ed-8e7e-aea63496d4c3"
      },
      "execution_count": 16,
      "outputs": [
        {
          "output_type": "execute_result",
          "data": {
            "text/plain": [
              "array([54.96714153, 48.61735699, 56.47688538, 65.23029856, 47.65846625,\n",
              "       47.65863043, 65.79212816, 57.67434729, 45.30525614, 55.42560044])"
            ]
          },
          "metadata": {},
          "execution_count": 16
        }
      ]
    },
    {
      "cell_type": "code",
      "source": [
        "normDist = stats.norm(loc=50, scale=10)\n",
        "normDist.pdf(x=40)"
      ],
      "metadata": {
        "colab": {
          "base_uri": "https://localhost:8080/"
        },
        "id": "B1Bx7lfy166Y",
        "outputId": "fb9f7f08-d13d-4734-97e5-68be42b07f14"
      },
      "execution_count": 17,
      "outputs": [
        {
          "output_type": "execute_result",
          "data": {
            "text/plain": [
              "0.024197072451914336"
            ]
          },
          "metadata": {},
          "execution_count": 17
        }
      ]
    },
    {
      "cell_type": "code",
      "source": [
        "normDist = stats.norm(loc=50, scale=10)\n",
        "normDist.pdf(x=[40,50,60])"
      ],
      "metadata": {
        "colab": {
          "base_uri": "https://localhost:8080/"
        },
        "id": "wxqP_fpw173N",
        "outputId": "eae42a83-c1d6-4026-f349-6f070e13637c"
      },
      "execution_count": 19,
      "outputs": [
        {
          "output_type": "execute_result",
          "data": {
            "text/plain": [
              "array([0.02419707, 0.03989423, 0.02419707])"
            ]
          },
          "metadata": {},
          "execution_count": 19
        }
      ]
    },
    {
      "cell_type": "code",
      "source": [
        "normDist = stats.norm(loc=50, scale=10)\n",
        "normDist.cdf(x=40)"
      ],
      "metadata": {
        "colab": {
          "base_uri": "https://localhost:8080/"
        },
        "id": "iHVQD8lm2Bv0",
        "outputId": "f5f5f099-de6a-4c9d-ee9f-d59b9a41b075"
      },
      "execution_count": 20,
      "outputs": [
        {
          "output_type": "execute_result",
          "data": {
            "text/plain": [
              "0.15865525393145707"
            ]
          },
          "metadata": {},
          "execution_count": 20
        }
      ]
    },
    {
      "cell_type": "code",
      "source": [
        "normDist = stats.norm(loc=50, scale=10)\n",
        "normDist.ppf(q=0.9)"
      ],
      "metadata": {
        "colab": {
          "base_uri": "https://localhost:8080/"
        },
        "id": "GqILNKIv2D4l",
        "outputId": "ad00d64b-62c3-404e-a13a-dfd2e861a705"
      },
      "execution_count": 21,
      "outputs": [
        {
          "output_type": "execute_result",
          "data": {
            "text/plain": [
              "62.815515655446006"
            ]
          },
          "metadata": {},
          "execution_count": 21
        }
      ]
    },
    {
      "cell_type": "code",
      "source": [
        "normDist = stats.norm(loc=50, scale=10)\n",
        "normDist.stats(moments='mvsk') #Mean(‘m’), variance(‘v’), skew(‘s’), and/or kurtosis(‘k’)"
      ],
      "metadata": {
        "colab": {
          "base_uri": "https://localhost:8080/"
        },
        "id": "2xb4Dpym2FhD",
        "outputId": "a20ec854-e0ca-454c-ae01-d1b67f116ad4"
      },
      "execution_count": 22,
      "outputs": [
        {
          "output_type": "execute_result",
          "data": {
            "text/plain": [
              "(array(50.), array(100.), array(0.), array(0.))"
            ]
          },
          "metadata": {},
          "execution_count": 22
        }
      ]
    }
  ]
}